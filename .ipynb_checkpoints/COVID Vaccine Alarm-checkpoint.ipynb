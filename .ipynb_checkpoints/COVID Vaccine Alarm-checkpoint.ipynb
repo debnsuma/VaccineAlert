{
 "cells": [
  {
   "cell_type": "markdown",
   "id": "suitable-clone",
   "metadata": {},
   "source": [
    "# Importing the mudules"
   ]
  },
  {
   "cell_type": "code",
   "execution_count": 1,
   "id": "nonprofit-afternoon",
   "metadata": {},
   "outputs": [],
   "source": [
    "from datetime import date\n",
    "import time\n",
    "from pprint import pprint as pp\n",
    "\n",
    "import yaml\n",
    "import pathlib\n",
    "import requests\n",
    "import json\n",
    "import pandas as pd"
   ]
  },
  {
   "cell_type": "markdown",
   "id": "careful-client",
   "metadata": {},
   "source": [
    "# Reading the CONFIG Data"
   ]
  },
  {
   "cell_type": "code",
   "execution_count": 2,
   "id": "balanced-combat",
   "metadata": {},
   "outputs": [],
   "source": [
    "cwd = str(pathlib.Path().absolute())\n",
    "config_path = pathlib.os.path.join(cwd, 'config.yml')"
   ]
  },
  {
   "cell_type": "code",
   "execution_count": 3,
   "id": "substantial-marketing",
   "metadata": {
    "scrolled": true
   },
   "outputs": [],
   "source": [
    "with open(config_path) as f:\n",
    "    config_data = yaml.load(f, Loader=yaml.FullLoader)"
   ]
  },
  {
   "cell_type": "markdown",
   "id": "innocent-forest",
   "metadata": {},
   "source": [
    "# Get the status of Vaccine "
   ]
  },
  {
   "cell_type": "code",
   "execution_count": 4,
   "id": "capital-regulation",
   "metadata": {},
   "outputs": [],
   "source": [
    "current_data = date.today().strftime(\"%d-%m-%y\")\n",
    "\n",
    "BASE_URL = \"https://cdn-api.co-vin.in/api/v2/appointment/sessions/public/findByPin?pincode={}&date={}\"\n",
    "URL = BASE_URL.format(config_data['pincode'], current_data)\n",
    "\n",
    "# Faking the browser header (http://www.useragentstring.com/pages/useragentstring.php?name=Chrome) \n",
    "browser_header = {'User-Agent': 'Mozilla/5.0 (Windows NT 6.1; WOW64) AppleWebKit/537.36 (KHTML, like Gecko) Chrome/56.0.2924.76 Safari/537.36'}"
   ]
  },
  {
   "cell_type": "code",
   "execution_count": 5,
   "id": "departmental-freight",
   "metadata": {},
   "outputs": [],
   "source": [
    "response = requests.get(URL, headers=browser_header)\n",
    "data = json.loads(response.text)"
   ]
  },
  {
   "cell_type": "code",
   "execution_count": 6,
   "id": "animated-ivory",
   "metadata": {},
   "outputs": [],
   "source": [
    "center = {}\n",
    "centers = [] \n",
    "if data[\"sessions\"]:\n",
    "    for slots in data[\"sessions\"]:\n",
    "        center[\"Center Name\"] = slots[\"center_id\"]\n",
    "        center[\"Address\"] = slots[\"address\"]\n",
    "        center[\"Pin\"] = slots[\"pincode\"]\n",
    "        center[\"Date\"] = slots[\"date\"]\n",
    "        center[\"Vaccine Name\"] = slots[\"vaccine\"]\n",
    "        center[\"Available Capacity\"] = slots[\"available_capacity\"]\n",
    "        center[\"Available Slot\"] = slots[\"slots\"]   \n",
    "        \n",
    "        # for streamlite\n",
    "        center[\"lat\"] = slots[\"lat\"] \n",
    "        center[\"long\"] = slots[\"long\"] \n",
    "        \n",
    "        centers.append(center)\n",
    "else:\n",
    "    centers = {\"Status \" : \"Noting Available\"}\n",
    "        "
   ]
  },
  {
   "cell_type": "code",
   "execution_count": 7,
   "id": "blessed-expression",
   "metadata": {},
   "outputs": [
    {
     "data": {
      "text/plain": [
       "[{'Center Name': 563048,\n",
       "  'Address': 'J.L.N Marg, Delhi Gate, New Delhi 110001',\n",
       "  'Pin': 110001,\n",
       "  'Date': '11-05-2021',\n",
       "  'Vaccine Name': 'COVISHIELD',\n",
       "  'Available Capacity': 23,\n",
       "  'Available Slot': ['09:00AM-12:00PM',\n",
       "   '12:00PM-03:00PM',\n",
       "   '03:00PM-06:00PM',\n",
       "   '06:00PM-09:00PM'],\n",
       "  'lat': 28,\n",
       "  'long': 77}]"
      ]
     },
     "execution_count": 7,
     "metadata": {},
     "output_type": "execute_result"
    }
   ],
   "source": [
    "centers"
   ]
  },
  {
   "cell_type": "code",
   "execution_count": null,
   "id": "animal-nicholas",
   "metadata": {},
   "outputs": [],
   "source": [
    "st.pydeck_chart(pdk.Deck(\n",
    "     map_style='mapbox://styles/mapbox/light-v9',\n",
    "     initial_view_state=pdk.ViewState(\n",
    "         latitude=37.76,\n",
    "         longitude=-122.4,\n",
    "         zoom=11,\n",
    "         pitch=50,\n",
    "     ),\n",
    "     layers=[\n",
    "        pdk.Layer(\n",
    "            'HexagonLayer',\n",
    "            data=df,\n",
    "            get_position='[lon, lat]',\n",
    "            radius=200,\n",
    "            elevation_scale=4,\n",
    "            elevation_range=[0, 1000],\n",
    "            pickable=True,\n",
    "            extruded=True,\n",
    "         ),\n",
    "         pdk.Layer(\n",
    "             'ScatterplotLayer',\n",
    "             data=df,\n",
    "             get_position='[lon, lat]',\n",
    "             get_color='[200, 30, 0, 160]',\n",
    "             get_radius=200,\n",
    "         ),\n",
    "     ],\n",
    " ))"
   ]
  }
 ],
 "metadata": {
  "kernelspec": {
   "display_name": "Python 3",
   "language": "python",
   "name": "python3"
  },
  "language_info": {
   "codemirror_mode": {
    "name": "ipython",
    "version": 3
   },
   "file_extension": ".py",
   "mimetype": "text/x-python",
   "name": "python",
   "nbconvert_exporter": "python",
   "pygments_lexer": "ipython3",
   "version": "3.8.3"
  },
  "toc": {
   "base_numbering": 1,
   "nav_menu": {},
   "number_sections": true,
   "sideBar": true,
   "skip_h1_title": false,
   "title_cell": "Table of Contents",
   "title_sidebar": "Contents",
   "toc_cell": false,
   "toc_position": {},
   "toc_section_display": true,
   "toc_window_display": true
  },
  "varInspector": {
   "cols": {
    "lenName": 16,
    "lenType": 16,
    "lenVar": 40
   },
   "kernels_config": {
    "python": {
     "delete_cmd_postfix": "",
     "delete_cmd_prefix": "del ",
     "library": "var_list.py",
     "varRefreshCmd": "print(var_dic_list())"
    },
    "r": {
     "delete_cmd_postfix": ") ",
     "delete_cmd_prefix": "rm(",
     "library": "var_list.r",
     "varRefreshCmd": "cat(var_dic_list()) "
    }
   },
   "types_to_exclude": [
    "module",
    "function",
    "builtin_function_or_method",
    "instance",
    "_Feature"
   ],
   "window_display": false
  }
 },
 "nbformat": 4,
 "nbformat_minor": 5
}
